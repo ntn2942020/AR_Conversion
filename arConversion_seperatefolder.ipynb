{
 "cells": [
  {
   "cell_type": "code",
   "execution_count": 7,
   "outputs": [],
   "source": [
    "import pandas as pd\n",
    "from openpyxl import load_workbook \n",
    "from pathlib import Path"
   ],
   "metadata": {
    "collapsed": false,
    "pycharm": {
     "name": "#%%\n"
    }
   }
  },
  {
   "cell_type": "code",
   "execution_count": 8,
   "outputs": [],
   "source": [
    "def main():\n",
    "    run_file_loop()"
   ],
   "metadata": {
    "collapsed": false,
    "pycharm": {
     "name": "#%%\n"
    }
   }
  },
  {
   "cell_type": "code",
   "execution_count": 10,
   "outputs": [],
   "source": [
    "def run_file_loop():\n",
    "    folder = get_files_folder()\n",
    "    for file in folder:\n",
    "        hospital_location = get_hospital_name(file)\n",
    "        processed_file = transform_data(file,hospital_location)\n",
    "        add_sheet_to_outfile(processed_file,hospital_location)\n",
    "\n",
    "\n",
    "def get_files_folder() -> list:\n",
    "    input_folder = (Path.cwd()/'data'/'raw').glob('*.*')\n",
    "    return [file for file in input_folder if file.is_file()]\n",
    "\n",
    "\n",
    "def get_hospital_name(file_name) -> str:\n",
    "    return str(file_name).split(\"\\\\\")[-1].split()[0]\n",
    "\n",
    "\n",
    "def add_sheet_to_outfile(dataframe, hospital_location):\n",
    "    fn = Path.cwd()/'data'/'processed'/'template2.xlsx'\n",
    "    writer = pd.ExcelWriter(fn, engine='openpyxl', mode='a')\n",
    "    book = load_workbook(fn)\n",
    "    writer.book = book\n",
    "    writer.sheets = dict((ws.title, ws) for ws in book.worksheets)\n",
    "    dataframe.to_excel(writer, sheet_name= hospital_location, index=False)\n",
    "    writer.save()\n",
    "\n",
    "\n",
    "def transform_data(file_name,hospital_location) -> pd.DataFrame:\n",
    "    # read hospital Avimark file\n",
    "    df = pd.read_excel(file_name, header=None)\n",
    "    # if there aren't inactive client in file there are 13 columns otherwise 15 columns, add 2 more empty columns if inactive case\n",
    "    if len(df.columns) != 15:\n",
    "        df = df.reindex(columns=range(15))\n",
    "    # remove blank columns and Phone column\n",
    "    df = df.drop([2,3,4], axis=1)\n",
    "    # remove first four rows\n",
    "    df = df.drop([0,1,2,3])\n",
    "    # get list of index columns prepare for swap columns [0, 1, 5, 6, 7, 8, 9, 10, 11, 12, 13, 14]\n",
    "    titles = list(df.columns)\n",
    "    # swap columns pair (Name<->ClientId)\n",
    "    titles[0], titles[1] = titles[1], titles[0]\n",
    "    # swap columns pair (balance<->NAN column)\n",
    "    titles[3], titles[-2] = titles[-2], titles[3]\n",
    "    # swap columns pair (Last<->NAN column)\n",
    "    titles[4], titles[-1] = titles[-1], titles[4]\n",
    "    # dataframe with swap columns\n",
    "    df = df[titles]\n",
    "    # remove balance and payment columns with index 5 , 7\n",
    "    df = df.drop([5,7],axis=1)\n",
    "    # insert STATUS column last place\n",
    "    df.loc[:, \"STATUS\"] = \"ACTIVE\"\n",
    "    #reset columns index\n",
    "    df = df.reset_index(drop=True)\n",
    "    # rename row 1 to be header\n",
    "    df.iloc[0] = ['Name', 'Client ID', 'DR/', 'Location', '0-30 Days', '31-60 Days', '61-90 Days', '90+ Days', 'Total', 'Last Payment Date'\n",
    "    ,'STATUS']\n",
    "    # assign header name to variable new header\n",
    "    new_header = df.iloc[0]\n",
    "    # dataframe start from blank row\n",
    "    df = df[1:]\n",
    "    # rename columns\n",
    "    df.columns = new_header\n",
    "    # check if there are inactive clients in report and return index of row in list\n",
    "    inactive_location = df.index[df.loc[:,'Last Payment Date']=='Inactive Client Balances']\n",
    "    #Check if inactive client exist, change status to inactive\n",
    "    if len (inactive_location) != 0:\n",
    "        df.loc[inactive_location[0]:,'STATUS'] = \"INACTIVE\"\n",
    "    # remove blank row\n",
    "    df.dropna(subset = [\"Name\"], inplace=True)\n",
    "    # remove sub header in credit balance and inactive balance\n",
    "    df = df[df['0-30 Days']!=\"Current\"]\n",
    "    # change credit text amount to negative number in columns \"0-30 Days\",\"31-60 Days\",\"61-90 Days\",\"90+ Days\" and \"Total\"\n",
    "    df['check_30'] = df[\"0-30 Days\"].apply(\n",
    "               lambda x: (-1 if 'CR' in x else 1))\n",
    "    df['check_31_60'] = df[\"31-60 Days\"].apply(\n",
    "               lambda x: (-1 if 'CR' in x else 1))\n",
    "    df['check_61_90'] = df[\"61-90 Days\"].apply(\n",
    "               lambda x: (-1 if 'CR' in x else 1))\n",
    "    df['check_90'] = df[\"90+ Days\"].apply(\n",
    "               lambda x: (-1 if 'CR' in x else 1))\n",
    "    df['check_total'] = df[\"Total\"].apply(\n",
    "               lambda x: (-1 if 'CR' in x else 1))\n",
    "    df[\"0-30 Days\"] = df[\"0-30 Days\"].map(lambda x: x.replace('CR',''))\n",
    "    df[\"31-60 Days\"] = df[\"31-60 Days\"].map(lambda x: x.replace('CR',''))\n",
    "    df[\"61-90 Days\"] = df[\"61-90 Days\"].map(lambda x: x.replace('CR',''))\n",
    "    df[\"90+ Days\"] = df[\"90+ Days\"].map(lambda x: x.replace('CR',''))\n",
    "    df[\"Total\"] = df[\"Total\"].map(lambda x: x.replace('CR',''))\n",
    "    # change type of columns to float type\n",
    "    df[['0-30 Days', '31-60 Days', '61-90 Days', '90+ Days', 'Total']] = df[['0-30 Days', '31-60 Days', '61-90 Days', '90+ Days', 'Total']].astype(float)\n",
    "    df[\"0-30 Days\"] = df[\"0-30 Days\"] * df['check_30']\n",
    "    df[\"31-60 Days\"] = df[\"31-60 Days\"] * df['check_31_60']\n",
    "    df[\"61-90 Days\"] = df[\"61-90 Days\"] * df['check_61_90']\n",
    "    df[\"90+ Days\"] = df[\"90+ Days\"] * df['check_90']\n",
    "    df[\"Total\"] = df[\"Total\"] * df['check_total']\n",
    "    df[\"90+ Days\"] = df[\"90+ Days\"] + df[\"Total\"]\n",
    "    df[\"Total\"] = df[\"0-30 Days\"] + df[\"31-60 Days\"] + df[\"61-90 Days\"] + df[\"90+ Days\"]\n",
    "    # drop sub check columns 1 and -1\n",
    "    df = df.drop([\"check_30\",\"check_31_60\",\"check_61_90\",\"check_90\",\"check_total\"], axis=1)\n",
    "    df['DR/'] = df[\"Total\"].apply(lambda x: (\"DR\" if x>= 0 else \"CR\"))\n",
    "    #fill hospital name\n",
    "    df['Location'] = hospital_location\n",
    "    #check result total\n",
    "    return df\n",
    "\n"
   ],
   "metadata": {
    "collapsed": false,
    "pycharm": {
     "name": "#%%\n"
    }
   }
  },
  {
   "cell_type": "code",
   "execution_count": 11,
   "outputs": [],
   "source": [
    "main()\n"
   ],
   "metadata": {
    "collapsed": false,
    "pycharm": {
     "name": "#%%\n"
    }
   }
  }
 ],
 "metadata": {
  "interpreter": {
   "hash": "e885cd74143ad494932267455ab53278514454996393c47fe6c2589217b9edf3"
  },
  "kernelspec": {
   "display_name": "Python 3.9.5 64-bit",
   "language": "python",
   "name": "python3"
  },
  "language_info": {
   "codemirror_mode": {
    "name": "ipython",
    "version": 3
   },
   "file_extension": ".py",
   "mimetype": "text/x-python",
   "name": "python",
   "nbconvert_exporter": "python",
   "pygments_lexer": "ipython3",
   "version": "3.9.5"
  },
  "orig_nbformat": 4
 },
 "nbformat": 4,
 "nbformat_minor": 2
}